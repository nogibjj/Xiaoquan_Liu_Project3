{
 "cells": [
  {
   "cell_type": "code",
   "execution_count": 1,
   "metadata": {},
   "outputs": [],
   "source": [
    "import csv\n",
    "import sqlite3"
   ]
  },
  {
   "cell_type": "code",
   "execution_count": 2,
   "metadata": {},
   "outputs": [],
   "source": [
    "connects = sqlite3.connect('Walmart_Coffee_Listing.db')\n",
    "cursor = connects.cursor()"
   ]
  },
  {
   "cell_type": "code",
   "execution_count": 3,
   "metadata": {},
   "outputs": [
    {
     "data": {
      "text/plain": [
       "<sqlite3.Cursor at 0x7fed2be8aa40>"
      ]
     },
     "execution_count": 3,
     "metadata": {},
     "output_type": "execute_result"
    }
   ],
   "source": [
    "table = 'CREATE TABLE Walmart_Coffee (id integer primary key, title TEXT, coffee_type TEXT, rating VAR, reviews VAR, seller_name TEXT, thumbnail TEXT, price VAR, weight VAR, weight_formatted_to_gramms VAR )'\n",
    "cursor.execute(table)"
   ]
  },
  {
   "cell_type": "code",
   "execution_count": 4,
   "metadata": {},
   "outputs": [
    {
     "data": {
      "text/plain": [
       "<sqlite3.Cursor at 0x7fed2be8aa40>"
      ]
     },
     "execution_count": 4,
     "metadata": {},
     "output_type": "execute_result"
    }
   ],
   "source": [
    "insert_query = 'INSERT INTO Walmart_Coffee(title, coffee_type, rating, reviews, seller_name, thumbnail, price, weight, weight_formatted_to_gramms) VALUES(?,?,?,?,?,?,?,?,?)'\n",
    "file = open('Walmart_Coffee_Listings.csv')\n",
    "query = csv.reader(file)\n",
    "cursor.executemany(insert_query, query)"
   ]
  },
  {
   "cell_type": "code",
   "execution_count": 5,
   "metadata": {},
   "outputs": [
    {
     "name": "stdout",
     "output_type": "stream",
     "text": [
      "(1, 'title', 'coffee_type', 'rating', 'reviews', 'seller_name', 'thumbnail', 'price', 'weight', 'weight_formatted_to_gramms')\n",
      "(2, 'folgers classic roast ground coffee, 40.3-ounce', 'classic roast', 3.8, 93, 'walmart.com', 'https://i5.walmartimages.com/asr/1fbbd523-8554-4a85-8107-2568a125a6d2.2395bc5a9e08e45dc51e62b268776b65.jpeg?odnHeight=180&odnWidth=180&odnBg=FFFFFF', 13.92, '40.3-ounce', 1142.5)\n",
      "(3, 'café bustelo, espresso style dark roast ground coffee, vacuum-packed 10 oz. brick', 'espresso,dark roast', 4.7, 914, 'walmart.com', 'https://i5.walmartimages.com/asr/99a53df0-0471-4b63-abe7-d6b8d314ebec_1.bbbb1a66318deade7f16115f60ac8725.jpeg?odnHeight=180&odnWidth=180&odnBg=FFFFFF', 3.76, '10 oz', 283.5)\n",
      "(4, 'folgers classic roast ground coffee, medium roast coffee, 25.9 ounce canister', 'medium roast,classic roast', 4.4, 740, 'walmart.com', 'https://i5.walmartimages.com/asr/e6aba325-608e-4838-a29d-d63e965a4d85.60c763c73d203bef88f34a464124bcb9.jpeg?odnHeight=180&odnWidth=180&odnBg=FFFFFF', 9.97, '25.9 ounce', 734.3)\n",
      "(5, 'maxwell house original roast ground coffee, 42.5 oz. canister', '', 4.8, 1321, 'walmart.com', 'https://i5.walmartimages.com/asr/a5be9586-b75d-4219-87d1-b29bf82884f9.5d9e86a8745c9187bb1285666576a6ac.jpeg?odnHeight=180&odnWidth=180&odnBg=FFFFFF', 9.92, '42.5 oz', 1204.9)\n",
      "(6, 'great value classic roast medium ground coffee, value size, 48 oz', 'classic roast', 4.7, 1598, 'walmart.com', 'https://i5.walmartimages.com/asr/de42310c-4cd6-443c-9a54-59a4d891a345.e91589e9f06a134831c5b6a87e5bc5e5.jpeg?odnHeight=180&odnWidth=180&odnBg=ffffff', 9.98, '48 oz', 1360.8)\n",
      "(7, 'great value classic roast medium ground coffee, 30.5 oz', 'classic roast', 4.2, 263, 'walmart.com', 'https://i5.walmartimages.com/asr/5cca074e-b983-425f-9fe5-31758007baa3.2204d1bd4c882c3fc4577f6f801532b9.jpeg?odnHeight=180&odnWidth=180&odnBg=ffffff', 7.98, '30.5 oz', 864.7)\n",
      "(8, 'caf bustelo, espresso style dark roast ground coffee, vacuum-packed 10 oz. brick', 'espresso,dark roast', 4.7, 914, 'walmart.com', 'https://i5.walmartimages.com/asr/99a53df0-0471-4b63-abe7-d6b8d314ebec_1.bbbb1a66318deade7f16115f60ac8725.jpeg?odnHeight=180&odnWidth=180&odnBg=ffffff', 3.76, '10 oz', 283.5)\n",
      "(9, 'xhao reusable capsules easy to clean easy to use 304 stainless steel stainless steel reusable capsules for coffee', '', 0, 0, 'joybuy selection', 'https://i5.walmartimages.com/asr/5aa587bd-9757-4519-a8b5-96815110f0aa.d9fb3e4f09f930746533117d4fa74ec4.jpeg?odnHeight=180&odnWidth=180&odnBg=FFFFFF', 13.89, 'not mentioned', 283.5)\n",
      "(10, 'black rifle coffee tactisquatch, dark roast, ground coffee,12 oz', 'black rifle coffee,dark roast', 3, 6, 'walmart.com', 'https://i5.walmartimages.com/asr/3375431c-e441-4c78-b3b3-7b0008bab6d0.ff0f60c8dafd2c9b1d8c838eb6783a46.jpeg?odnHeight=180&odnWidth=180&odnBg=ffffff', 12.98, '12 oz', 340.2)\n"
     ]
    }
   ],
   "source": [
    "select_query = 'SELECT * from Walmart_Coffee LIMIT 10'\n",
    "for i in cursor.execute(select_query):\n",
    "    print(i)"
   ]
  },
  {
   "cell_type": "code",
   "execution_count": null,
   "metadata": {},
   "outputs": [],
   "source": []
  }
 ],
 "metadata": {
  "kernelspec": {
   "display_name": "Python 3.10.4 64-bit",
   "language": "python",
   "name": "python3"
  },
  "language_info": {
   "codemirror_mode": {
    "name": "ipython",
    "version": 3
   },
   "file_extension": ".py",
   "mimetype": "text/x-python",
   "name": "python",
   "nbconvert_exporter": "python",
   "pygments_lexer": "ipython3",
   "version": "3.10.4"
  },
  "orig_nbformat": 4,
  "vscode": {
   "interpreter": {
    "hash": "3ad933181bd8a04b432d3370b9dc3b0662ad032c4dfaa4e4f1596c548f763858"
   }
  }
 },
 "nbformat": 4,
 "nbformat_minor": 2
}
