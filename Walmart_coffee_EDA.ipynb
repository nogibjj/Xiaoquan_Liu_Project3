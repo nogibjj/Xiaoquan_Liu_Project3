{
 "cells": [
  {
   "cell_type": "code",
   "execution_count": 2,
   "metadata": {},
   "outputs": [],
   "source": [
    "import csv\n",
    "import sqlite3"
   ]
  },
  {
   "cell_type": "markdown",
   "metadata": {},
   "source": [
    "### Connect to Sqlite3 \n",
    "### Create a Database called Walmart_Coffee_Listings"
   ]
  },
  {
   "cell_type": "code",
   "execution_count": 3,
   "metadata": {},
   "outputs": [],
   "source": [
    "connects = sqlite3.connect('Walmart_Coffee_Listings.db')\n",
    "cursor = connects.cursor()"
   ]
  },
  {
   "cell_type": "markdown",
   "metadata": {},
   "source": [
    "### Create Table and Execute that Table"
   ]
  },
  {
   "cell_type": "code",
   "execution_count": null,
   "metadata": {},
   "outputs": [],
   "source": [
    "table = 'CREATE TABLE Walmart_Coffee (id integer primary key, title TEXT, coffee_type TEXT, rating VAR, reviews VAR, seller_name TEXT, thumbnail TEXT, price VAR, weight VAR, weight_formatted_to_gramms VAR )'\n",
    "cursor.execute(table)"
   ]
  },
  {
   "cell_type": "markdown",
   "metadata": {},
   "source": [
    "### Insert Data into that Table"
   ]
  },
  {
   "cell_type": "code",
   "execution_count": 4,
   "metadata": {},
   "outputs": [
    {
     "data": {
      "text/plain": [
       "<sqlite3.Cursor at 0x7f094638b740>"
      ]
     },
     "execution_count": 4,
     "metadata": {},
     "output_type": "execute_result"
    }
   ],
   "source": [
    "insert_query = 'INSERT INTO Walmart_Coffee(title, coffee_type, rating, reviews, seller_name, thumbnail, price, weight, weight_formatted_to_gramms) VALUES(?,?,?,?,?,?,?,?,?)'\n",
    "file = open('Walmart_Coffee_Listings.csv')\n",
    "query = csv.reader(file)\n",
    "cursor.executemany(insert_query, query)"
   ]
  },
  {
   "cell_type": "markdown",
   "metadata": {},
   "source": [
    "### Have a Look at the First 5 Lines of Our Dataset"
   ]
  },
  {
   "cell_type": "code",
   "execution_count": 5,
   "metadata": {},
   "outputs": [
    {
     "name": "stdout",
     "output_type": "stream",
     "text": [
      "(1, 'title', 'coffee_type', 'rating', 'reviews', 'seller_name', 'thumbnail', 'price', 'weight', 'weight_formatted_to_gramms')\n",
      "(2, 'folgers classic roast ground coffee, 40.3-ounce', 'classic roast', 3.8, 93, 'walmart.com', 'https://i5.walmartimages.com/asr/1fbbd523-8554-4a85-8107-2568a125a6d2.2395bc5a9e08e45dc51e62b268776b65.jpeg?odnHeight=180&odnWidth=180&odnBg=FFFFFF', 13.92, '40.3-ounce', 1142.5)\n",
      "(3, 'café bustelo, espresso style dark roast ground coffee, vacuum-packed 10 oz. brick', 'espresso,dark roast', 4.7, 914, 'walmart.com', 'https://i5.walmartimages.com/asr/99a53df0-0471-4b63-abe7-d6b8d314ebec_1.bbbb1a66318deade7f16115f60ac8725.jpeg?odnHeight=180&odnWidth=180&odnBg=FFFFFF', 3.76, '10 oz', 283.5)\n",
      "(4, 'folgers classic roast ground coffee, medium roast coffee, 25.9 ounce canister', 'medium roast,classic roast', 4.4, 740, 'walmart.com', 'https://i5.walmartimages.com/asr/e6aba325-608e-4838-a29d-d63e965a4d85.60c763c73d203bef88f34a464124bcb9.jpeg?odnHeight=180&odnWidth=180&odnBg=FFFFFF', 9.97, '25.9 ounce', 734.3)\n",
      "(5, 'maxwell house original roast ground coffee, 42.5 oz. canister', '', 4.8, 1321, 'walmart.com', 'https://i5.walmartimages.com/asr/a5be9586-b75d-4219-87d1-b29bf82884f9.5d9e86a8745c9187bb1285666576a6ac.jpeg?odnHeight=180&odnWidth=180&odnBg=FFFFFF', 9.92, '42.5 oz', 1204.9)\n",
      "(6, 'great value classic roast medium ground coffee, value size, 48 oz', 'classic roast', 4.7, 1598, 'walmart.com', 'https://i5.walmartimages.com/asr/de42310c-4cd6-443c-9a54-59a4d891a345.e91589e9f06a134831c5b6a87e5bc5e5.jpeg?odnHeight=180&odnWidth=180&odnBg=ffffff', 9.98, '48 oz', 1360.8)\n",
      "(7, 'great value classic roast medium ground coffee, 30.5 oz', 'classic roast', 4.2, 263, 'walmart.com', 'https://i5.walmartimages.com/asr/5cca074e-b983-425f-9fe5-31758007baa3.2204d1bd4c882c3fc4577f6f801532b9.jpeg?odnHeight=180&odnWidth=180&odnBg=ffffff', 7.98, '30.5 oz', 864.7)\n",
      "(8, 'caf bustelo, espresso style dark roast ground coffee, vacuum-packed 10 oz. brick', 'espresso,dark roast', 4.7, 914, 'walmart.com', 'https://i5.walmartimages.com/asr/99a53df0-0471-4b63-abe7-d6b8d314ebec_1.bbbb1a66318deade7f16115f60ac8725.jpeg?odnHeight=180&odnWidth=180&odnBg=ffffff', 3.76, '10 oz', 283.5)\n",
      "(9, 'xhao reusable capsules easy to clean easy to use 304 stainless steel stainless steel reusable capsules for coffee', '', 0, 0, 'joybuy selection', 'https://i5.walmartimages.com/asr/5aa587bd-9757-4519-a8b5-96815110f0aa.d9fb3e4f09f930746533117d4fa74ec4.jpeg?odnHeight=180&odnWidth=180&odnBg=FFFFFF', 13.89, 'not mentioned', 283.5)\n",
      "(10, 'black rifle coffee tactisquatch, dark roast, ground coffee,12 oz', 'black rifle coffee,dark roast', 3, 6, 'walmart.com', 'https://i5.walmartimages.com/asr/3375431c-e441-4c78-b3b3-7b0008bab6d0.ff0f60c8dafd2c9b1d8c838eb6783a46.jpeg?odnHeight=180&odnWidth=180&odnBg=ffffff', 12.98, '12 oz', 340.2)\n"
     ]
    }
   ],
   "source": [
    "select_query = 'SELECT * from Walmart_Coffee LIMIT 10'\n",
    "for i in cursor.execute(select_query):\n",
    "    print(i)"
   ]
  },
  {
   "cell_type": "markdown",
   "metadata": {},
   "source": [
    "### Q1: What coffee type has the highest rating?"
   ]
  },
  {
   "cell_type": "code",
   "execution_count": 6,
   "metadata": {},
   "outputs": [
    {
     "name": "stdout",
     "output_type": "stream",
     "text": [
      "('italian', 5.0)\n",
      "('espresso,mocha', 5.0)\n",
      "('french,latte,instant coffee', 4.9)\n"
     ]
    }
   ],
   "source": [
    "select_rating = 'SELECT coffee_type, AVG(rating) AS avg_rating from Walmart_Coffee GROUP BY coffee_type ORDER BY avg_rating DESC LIMIT 3'\n",
    "for i in cursor.execute(select_rating):\n",
    "    print(i)"
   ]
  },
  {
   "cell_type": "markdown",
   "metadata": {},
   "source": [
    "> Top three rating coffee types are **Italian, Espresso(mocha), and French,Latte,Instant Coffee**.\n",
    "\n",
    "> **Italian** has the highest rating and gets full rating scores of 5."
   ]
  },
  {
   "cell_type": "markdown",
   "metadata": {},
   "source": [
    "### Q2: What coffee type has the lowest/highest price?"
   ]
  },
  {
   "cell_type": "markdown",
   "metadata": {},
   "source": [
    "**· Q2.1 How many distinct coffee types are there in our dataset ？**\n",
    "\n",
    "> There are **122** coffee types."
   ]
  },
  {
   "cell_type": "code",
   "execution_count": 10,
   "metadata": {},
   "outputs": [
    {
     "name": "stdout",
     "output_type": "stream",
     "text": [
      "122\n"
     ]
    }
   ],
   "source": [
    "count_type = 'SELECT count(DISTINCT(coffee_type)) from Walmart_Coffee'\n",
    "for i in cursor.execute(count_type):\n",
    "    print(i[0])"
   ]
  },
  {
   "cell_type": "markdown",
   "metadata": {},
   "source": [
    "**· Q2.2 Which type of coffee has the most data？**\n",
    "\n",
    "> We have 133 rows of data for the type: **Medium Roast**\n",
    "\n",
    "> **Medium Roast** is the most popular coffee type"
   ]
  },
  {
   "cell_type": "code",
   "execution_count": 8,
   "metadata": {},
   "outputs": [
    {
     "name": "stdout",
     "output_type": "stream",
     "text": [
      "('medium roast', 313)\n"
     ]
    }
   ],
   "source": [
    "select_type = 'SELECT coffee_type, count(*) from Walmart_Coffee GROUP BY coffee_type ORDER BY count(*) DESC LIMIT 1'\n",
    "for i in cursor.execute(select_type):\n",
    "    print(i)"
   ]
  },
  {
   "cell_type": "code",
   "execution_count": null,
   "metadata": {},
   "outputs": [],
   "source": [
    "select_price_high = 'SELECT coffee_type, AVG(price) AS avg_price from Walmart_Coffee GROUP BY coffee_type ORDER BY avg_price DESC LIMIT 3'\n",
    "for i in cursor.execute(select_price_high):\n",
    "    print(i)"
   ]
  },
  {
   "cell_type": "markdown",
   "metadata": {},
   "source": [
    "> Top three most expensive coffee types are **Italian, Mocha(Light roast), and Arabica** with price 37.99, 35.93, and 26.78.\n",
    "\n",
    "> **Italian** has the highest price. **Italian and Mocha(Light roast)** are the only two coffee types which have price over 30."
   ]
  },
  {
   "cell_type": "markdown",
   "metadata": {},
   "source": [
    "### Q3: What coffee type has the lowest/highest weight?"
   ]
  },
  {
   "cell_type": "code",
   "execution_count": 11,
   "metadata": {},
   "outputs": [
    {
     "name": "stdout",
     "output_type": "stream",
     "text": [
      "('mocha,instant coffee', 2381.4)\n",
      "('caramel,macchiato,iced coffee', 1814.4)\n",
      "('instant coffee,arabica,dark roast', 1134.0)\n"
     ]
    }
   ],
   "source": [
    "select_weight_high = 'SELECT coffee_type, AVG(weight_formatted_to_gramms) AS avg_weight from Walmart_Coffee GROUP BY coffee_type ORDER BY avg_weight DESC LIMIT 3'\n",
    "for i in cursor.execute(select_weight_high):\n",
    "    print(i)"
   ]
  },
  {
   "cell_type": "code",
   "execution_count": 13,
   "metadata": {},
   "outputs": [
    {
     "name": "stdout",
     "output_type": "stream",
     "text": [
      "('coffee_type', 0.0)\n",
      "('colombian,instant coffee', 99.2)\n",
      "('mocha,iced coffee,latte', 99.2)\n",
      "('instant coffee,light roast', 189.9)\n",
      "('espresso,instant coffee,dark roast', 199.9)\n"
     ]
    }
   ],
   "source": [
    "select_weight_low = 'SELECT coffee_type, AVG(weight_formatted_to_gramms) AS avg_weight from Walmart_Coffee GROUP BY coffee_type ORDER BY avg_weight LIMIT 5'\n",
    "for i in cursor.execute(select_weight_low):\n",
    "    print(i)"
   ]
  },
  {
   "cell_type": "markdown",
   "metadata": {},
   "source": [
    "> Top three heaviest coffee type are **Mocha(instant coffee), Caramel,macchiat(iced coffee), and Instant coffee,arabica,dark roast** with weight 2381.4, 1814.4, and 1134.0 gramms.\n",
    "\n",
    "> Top four lightiest coffee type are **Colombian(instant coffee), Mocha(iced coffee,latte), Instant coffee(light roast), and Espresso(instant coffee,dark roast)** with weight 99.2, 99.2, 189.9 and 199.9 gramms."
   ]
  }
 ],
 "metadata": {
  "kernelspec": {
   "display_name": "Python 3.10.4 64-bit",
   "language": "python",
   "name": "python3"
  },
  "language_info": {
   "codemirror_mode": {
    "name": "ipython",
    "version": 3
   },
   "file_extension": ".py",
   "mimetype": "text/x-python",
   "name": "python",
   "nbconvert_exporter": "python",
   "pygments_lexer": "ipython3",
   "version": "3.10.4"
  },
  "orig_nbformat": 4,
  "vscode": {
   "interpreter": {
    "hash": "3ad933181bd8a04b432d3370b9dc3b0662ad032c4dfaa4e4f1596c548f763858"
   }
  }
 },
 "nbformat": 4,
 "nbformat_minor": 2
}
